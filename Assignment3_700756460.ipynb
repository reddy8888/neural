{
  "nbformat": 4,
  "nbformat_minor": 0,
  "metadata": {
    "colab": {
      "provenance": [],
      "authorship_tag": "ABX9TyMv6FEEEbKIFSifRk50r383",
      "include_colab_link": true
    },
    "kernelspec": {
      "name": "python3",
      "display_name": "Python 3"
    },
    "language_info": {
      "name": "python"
    }
  },
  "cells": [
    {
      "cell_type": "markdown",
      "metadata": {
        "id": "view-in-github",
        "colab_type": "text"
      },
      "source": [
        "<a href=\"https://colab.research.google.com/github/reddy8888/neural/blob/main/Assignment3_700756460.ipynb\" target=\"_parent\"><img src=\"https://colab.research.google.com/assets/colab-badge.svg\" alt=\"Open In Colab\"/></a>"
      ]
    },
    {
      "cell_type": "code",
      "execution_count": 1,
      "metadata": {
        "colab": {
          "base_uri": "https://localhost:8080/"
        },
        "id": "NLMHLRIg-6Su",
        "outputId": "d410f714-bb83-49f1-a7ab-3a0507f35a73"
      },
      "outputs": [
        {
          "output_type": "stream",
          "name": "stdout",
          "text": [
            "Average Salary for Employees: 55000.0\n",
            "Average Salary for FullTimeEmployee: 70000.0\n",
            "Total Employees: 3\n"
          ]
        }
      ],
      "source": [
        "class Employee:\n",
        "    # Class variable to count the number of employees\n",
        "    employee_count = 0\n",
        "\n",
        "    def __init__(self, name, family, salary, department):\n",
        "        # Instance variables\n",
        "        self.name = name\n",
        "        self.family = family\n",
        "        self.salary = salary\n",
        "        self.department = department\n",
        "\n",
        "        # Increment the employee count when a new employee is created\n",
        "        Employee.employee_count += 1\n",
        "\n",
        "    def average_salary(self, *salaries):\n",
        "        # Calculate and return the average salary\n",
        "        total_salary = sum(salaries) + self.salary\n",
        "        num_employees = len(salaries) + 1  # Include the current instance\n",
        "        return total_salary / num_employees\n",
        "\n",
        "\n",
        "class FullTimeEmployee(Employee):\n",
        "    # Additional properties for FullTimeEmployee can be added here\n",
        "\n",
        "    def __init__(self, name, family, salary, department, fulltime_property):\n",
        "        # Call the constructor of the base class (Employee)\n",
        "        super().__init__(name, family, salary, department)\n",
        "\n",
        "        # Additional property specific to FullTimeEmployee\n",
        "        self.fulltime_property = fulltime_property\n",
        "\n",
        "\n",
        "# Create instances of Employee class\n",
        "employee1 = Employee(\"Priyanka p\", \"Family1\", 50000, \"HR\")\n",
        "employee2 = Employee(\"Jessica e\", \"Family2\", 60000, \"IT\")\n",
        "\n",
        "# Call the average_salary function for Employee class\n",
        "average_salary_employee = employee1.average_salary(employee2.salary)\n",
        "print(f\"Average Salary for Employees: {average_salary_employee}\")\n",
        "\n",
        "# Create instances of FullTimeEmployee class\n",
        "fulltime_employee = FullTimeEmployee(\"Alice\", \"Family3\", 70000, \"Finance\", \"FullTimeProperty\")\n",
        "\n",
        "# Call the average_salary function for FullTimeEmployee class\n",
        "average_salary_fulltime_employee = fulltime_employee.average_salary()\n",
        "print(f\"Average Salary for FullTimeEmployee: {average_salary_fulltime_employee}\")\n",
        "\n",
        "# Print the total count of employees\n",
        "print(f\"Total Employees: {Employee.employee_count}\")\n"
      ]
    },
    {
      "cell_type": "code",
      "source": [
        "import numpy as np\n",
        "\n",
        "# numpy array with random values in 4 by 5 size\n",
        "randNumArray = np.random.uniform(low=1, high=20, size=(4,5))\n",
        "\n",
        "# finding the indices with maximum values\n",
        "maxIndices = np.argmax(randNumArray, axis=1)\n",
        "\n",
        "# finding the row indices\n",
        "rowIndices = np.arange(randNumArray.shape[0])\n",
        "\n",
        "# finding the exact positions of maximium valuesin the array\n",
        "positionIndices = np.array([rowIndices, maxIndices])\n",
        "\n",
        "# to convert the array into an array of flat indices\n",
        "linearIndices = np.ravel_multi_index(positionIndices, randNumArray.shape)\n",
        "\n",
        "# reshaping the linear array into multi dimensionanl array\n",
        "randNumArray.reshape((-1))[linearIndices] = 0\n",
        "\n",
        "print(randNumArray)"
      ],
      "metadata": {
        "colab": {
          "base_uri": "https://localhost:8080/"
        },
        "id": "GQg0yjmR_Rly",
        "outputId": "1e3638cb-b8bf-408c-cffc-8fd38bdd3228"
      },
      "execution_count": 2,
      "outputs": [
        {
          "output_type": "stream",
          "name": "stdout",
          "text": [
            "[[ 5.22321808  0.         12.85826087  3.45221198 11.76851702]\n",
            " [15.67430222  8.75253309  1.86338177  0.         15.16025251]\n",
            " [15.0479437  15.75973853 12.66470985 12.2059699   0.        ]\n",
            " [ 0.          4.99958752  4.63448546 18.90631749  4.43699646]]\n"
          ]
        }
      ]
    },
    {
      "cell_type": "code",
      "source": [],
      "metadata": {
        "id": "Q8hHctth_XZ7"
      },
      "execution_count": null,
      "outputs": []
    }
  ]
}