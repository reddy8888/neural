{
  "nbformat": 4,
  "nbformat_minor": 0,
  "metadata": {
    "colab": {
      "provenance": [],
      "authorship_tag": "ABX9TyNG6S3gPRE/pUncoht4TOd5",
      "include_colab_link": true
    },
    "kernelspec": {
      "name": "python3",
      "display_name": "Python 3"
    },
    "language_info": {
      "name": "python"
    }
  },
  "cells": [
    {
      "cell_type": "markdown",
      "metadata": {
        "id": "view-in-github",
        "colab_type": "text"
      },
      "source": [
        "<a href=\"https://colab.research.google.com/github/reddy8888/neural/blob/main/Untitled0.ipynb\" target=\"_parent\"><img src=\"https://colab.research.google.com/assets/colab-badge.svg\" alt=\"Open In Colab\"/></a>"
      ]
    },
    {
      "cell_type": "code",
      "execution_count": 1,
      "metadata": {
        "colab": {
          "base_uri": "https://localhost:8080/"
        },
        "id": "ARoHjWbLJZwo",
        "outputId": "4f3bedc9-21c9-4c7f-e501-3d603ee8eb52"
      },
      "outputs": [
        {
          "output_type": "stream",
          "name": "stdout",
          "text": [
            "Enter the string: python\n",
            "Sample output:\n",
            "noht\n"
          ]
        }
      ],
      "source": [
        "# Input the string \"Python\"\n",
        "ip = list(input(\"Enter the string: \"))\n",
        "\n",
        "# Deleting at least 2 characters\n",
        "if len(ip) >= 2:\n",
        "    del ip[:2]\n",
        "\n",
        "# Reverse the obtained string\n",
        "resultant_string = ip[::-1]\n",
        "\n",
        "# Print the final reversed string\n",
        "print(\"Sample output:\")\n",
        "print(\"\".join(resultant_string))"
      ]
    },
    {
      "cell_type": "code",
      "source": [
        "# Taking two numbers from the user\n",
        "n1 = int(input(\"First number: \"))\n",
        "n2 = int(input(\"Second number: \"))\n",
        "\n",
        "# Performing arithmetic operations\n",
        "add_result = n1 + n2\n",
        "sub_result = n1 - n2\n",
        "multi_result = n1 * n2\n",
        "div_result = n1 / n2\n",
        "\n",
        "# Print the results of arithmetic operations\n",
        "print(\"Arithmetic Operations:\")\n",
        "print(f\"Addition: {add_result}\")\n",
        "print(f\"Subtraction: {sub_result}\")\n",
        "print(f\"Multiplication: {multi_result}\")\n",
        "print(f\"Division: {div_result}\")"
      ],
      "metadata": {
        "colab": {
          "base_uri": "https://localhost:8080/"
        },
        "id": "WFRpIrQDKCKF",
        "outputId": "b1cf527d-0cf8-4ceb-8ae6-587281e94442"
      },
      "execution_count": 2,
      "outputs": [
        {
          "output_type": "stream",
          "name": "stdout",
          "text": [
            "First number: 1\n",
            "Second number: 2\n",
            "Arithmetic Operations:\n",
            "Addition: 3\n",
            "Subtraction: -1\n",
            "Multiplication: 2\n",
            "Division: 0.5\n"
          ]
        }
      ]
    },
    {
      "cell_type": "code",
      "source": [
        "# Taking a sentence from the user\n",
        "inp_sentence = input(\"Enter a sentence: \")\n",
        "\n",
        "# Replacing each occurrence of 'python' with 'pythons'\n",
        "op_sentence = inp_sentence.replace('python', 'pythons')\n",
        "\n",
        "# Print the modified sentence\n",
        "print(\"Sample output:\")\n",
        "print(op_sentence)"
      ],
      "metadata": {
        "colab": {
          "base_uri": "https://localhost:8080/"
        },
        "id": "_ljSemuQKNa_",
        "outputId": "3eab9826-a4ba-40c9-a16f-5bc86ce6c5ba"
      },
      "execution_count": 4,
      "outputs": [
        {
          "output_type": "stream",
          "name": "stdout",
          "text": [
            "Enter a sentence: python is easy to learn\n",
            "Sample output:\n",
            "pythons is easy to learn\n"
          ]
        }
      ]
    },
    {
      "cell_type": "code",
      "source": [
        "# Take the class score from the user\n",
        "cls_score = float(input(\"Enter class score: \"))\n",
        "\n",
        "# Determining the letter grade based on the grading scheme\n",
        "if 90 <= cls_score <= 100:\n",
        "    grade = 'A'\n",
        "elif 80 <= cls_score < 90:\n",
        "    grade = 'B'\n",
        "elif 70 <= cls_score < 80:\n",
        "    grade = 'C'\n",
        "elif 60 <= cls_score < 70:\n",
        "    grade = 'D'\n",
        "else:\n",
        "    grade = 'F'\n",
        "\n",
        "# Print the letter grade\n",
        "print(f\"The grade {cls_score} is: {grade}\")"
      ],
      "metadata": {
        "colab": {
          "base_uri": "https://localhost:8080/"
        },
        "id": "WdSwEqg0KURA",
        "outputId": "7eea86cb-4298-49dc-8e7d-2dd6326a4c83"
      },
      "execution_count": 5,
      "outputs": [
        {
          "output_type": "stream",
          "name": "stdout",
          "text": [
            "Enter class score: 99\n",
            "The grade 99.0 is: A\n"
          ]
        }
      ]
    }
  ]
}