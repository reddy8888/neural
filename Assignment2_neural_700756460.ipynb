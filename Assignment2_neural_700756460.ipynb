{
  "nbformat": 4,
  "nbformat_minor": 0,
  "metadata": {
    "colab": {
      "provenance": [],
      "authorship_tag": "ABX9TyNL99KzvJaJ5eVoFqzuux5Q",
      "include_colab_link": true
    },
    "kernelspec": {
      "name": "python3",
      "display_name": "Python 3"
    },
    "language_info": {
      "name": "python"
    }
  },
  "cells": [
    {
      "cell_type": "markdown",
      "metadata": {
        "id": "view-in-github",
        "colab_type": "text"
      },
      "source": [
        "<a href=\"https://colab.research.google.com/github/reddy8888/neural/blob/main/Assignment2_neural_700756460.ipynb\" target=\"_parent\"><img src=\"https://colab.research.google.com/assets/colab-badge.svg\" alt=\"Open In Colab\"/></a>"
      ]
    },
    {
      "cell_type": "code",
      "execution_count": 1,
      "metadata": {
        "colab": {
          "base_uri": "https://localhost:8080/"
        },
        "id": "FG2ZtBari0u_",
        "outputId": "38af04d8-723b-431f-cbc8-131106105715"
      },
      "outputs": [
        {
          "output_type": "stream",
          "name": "stdout",
          "text": [
            "Enter your first Name: kesara\n",
            "Enter your last Name: reddy\n",
            "Your full name is  kesara reddy\n",
            "Enter a string to print alternate characters: praneeth\n",
            "Alternative characters are paet\n"
          ]
        }
      ],
      "source": [
        "# method to print full name by combining firstname and lastname\n",
        "def full__Name(fName, lName):\n",
        "    Full_name = first__Name + \" \" + last__Name\n",
        "    print(\"Your full name is \", Full_name)\n",
        "\n",
        "# method to print alternative characters of a string\n",
        "def string_alternative(str):\n",
        "    print(\"Alternative characters are \" + str[::2])\n",
        "\n",
        "if __name__ == \"__main__\":\n",
        "    first__Name = input(\"Enter your first Name: \")\n",
        "    last__Name = input(\"Enter your last Name: \")\n",
        "    full__Name(first__Name, last__Name)\n",
        "    str = input(\"Enter a string to print alternate characters: \")\n",
        "    string_alternative(str)"
      ]
    },
    {
      "cell_type": "code",
      "source": [
        "f = open(\"testinput.txt\",\"w\")\n",
        "f.write(\"Python Course\\n\")\n",
        "f.write(\"Deep learning course\\n\")\n",
        "f.close()\n",
        "f= open(\"testinput.txt\",\"r\")\n",
        "print(f.read())\n"
      ],
      "metadata": {
        "colab": {
          "base_uri": "https://localhost:8080/"
        },
        "id": "TxL43U3kjH_C",
        "outputId": "39996847-26b2-4855-d863-e82b36761095"
      },
      "execution_count": 2,
      "outputs": [
        {
          "output_type": "stream",
          "name": "stdout",
          "text": [
            "Python Course\n",
            "Deep learning course\n",
            "\n"
          ]
        }
      ]
    },
    {
      "cell_type": "code",
      "source": [
        "from collections import Counter\n",
        "\n",
        "# Reading input from input.txt\n",
        "with open('testinput.txt', 'r') as file:\n",
        "    lines = file.readlines()\n",
        "\n",
        "# Processing each line and count words\n",
        "wordcountperline = []\n",
        "\n",
        "for line in lines:\n",
        "    words = line.strip().split()\n",
        "    wordcountperline.append(Counter(words))\n",
        "\n",
        "# Printing the lines\n",
        "for line in lines:\n",
        "    print(line.strip())\n",
        "\n",
        "# Printing word counts for each word\n",
        "print(\"Word_Count:\")\n",
        "for word, count in Counter(word for wc in wordcountperline for word in wc).items():\n",
        "    print(f\"{word}: {count}\")\n",
        "\n",
        "# Storing the output in output.txt\n",
        "with open('testoutput.txt', 'w') as output_file:\n",
        "    for line in lines:\n",
        "        output_file.write(line)\n",
        "    output_file.write(\"Word_Count:\\n\")\n",
        "    for word, count in Counter(word for wc in wordcountperline for word in wc).items():\n",
        "        output_file.write(f\"{word}: {count}\\n\")"
      ],
      "metadata": {
        "colab": {
          "base_uri": "https://localhost:8080/"
        },
        "id": "IeNIA3PejKvn",
        "outputId": "89cb483e-126a-4528-bc51-2ffa0e4c7de8"
      },
      "execution_count": 3,
      "outputs": [
        {
          "output_type": "stream",
          "name": "stdout",
          "text": [
            "Python Course\n",
            "Deep learning course\n",
            "Word_Count:\n",
            "Python: 1\n",
            "Course: 1\n",
            "Deep: 1\n",
            "learning: 1\n",
            "course: 1\n"
          ]
        }
      ]
    },
    {
      "cell_type": "code",
      "source": [
        "# below code snippet is the conversion of heights from inches to cms\n",
        "# using Nested Interactive loop & List comprehensions\n",
        "heights_List = []\n",
        "elements = int(input(\"Enter size of list: \"))\n",
        "for e in range(elements):\n",
        "    heights_List.append(float(input()))\n",
        "tempHeights_List = [2.54 * item for item in heights_List]\n",
        "print(tempHeights_List)"
      ],
      "metadata": {
        "colab": {
          "base_uri": "https://localhost:8080/"
        },
        "id": "TKG12MxIjYqa",
        "outputId": "32fdd2ba-992f-4a93-d8d7-6fa44ebb8e69"
      },
      "execution_count": 9,
      "outputs": [
        {
          "output_type": "stream",
          "name": "stdout",
          "text": [
            "Enter size of list: 5\n",
            "673\n",
            "756\n",
            "098\n",
            "678\n",
            "3456\n",
            "[1709.42, 1920.24, 248.92000000000002, 1722.1200000000001, 8778.24]\n"
          ]
        }
      ]
    }
  ]
}